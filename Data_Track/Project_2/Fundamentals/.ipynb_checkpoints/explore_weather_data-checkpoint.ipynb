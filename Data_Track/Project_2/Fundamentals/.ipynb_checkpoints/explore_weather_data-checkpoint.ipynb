{
 "cells": [
  {
   "cell_type": "code",
   "execution_count": 1,
   "id": "f66a0e32",
   "metadata": {},
   "outputs": [],
   "source": [
    "import pandas as pd\n",
    "import numpy as np\n",
    "import matplotlib.pyplot as plt\n",
    "\n",
    "%matplotlib inline"
   ]
  },
  {
   "cell_type": "code",
   "execution_count": 16,
   "id": "5cf4d3a2",
   "metadata": {},
   "outputs": [],
   "source": [
    "import re"
   ]
  },
  {
   "cell_type": "code",
   "execution_count": 2,
   "id": "1dc2a331",
   "metadata": {},
   "outputs": [
    {
     "data": {
      "text/html": [
       "<div>\n",
       "<style scoped>\n",
       "    .dataframe tbody tr th:only-of-type {\n",
       "        vertical-align: middle;\n",
       "    }\n",
       "\n",
       "    .dataframe tbody tr th {\n",
       "        vertical-align: top;\n",
       "    }\n",
       "\n",
       "    .dataframe thead th {\n",
       "        text-align: right;\n",
       "    }\n",
       "</style>\n",
       "<table border=\"1\" class=\"dataframe\">\n",
       "  <thead>\n",
       "    <tr style=\"text-align: right;\">\n",
       "      <th></th>\n",
       "      <th>year</th>\n",
       "      <th>city</th>\n",
       "      <th>country</th>\n",
       "      <th>avg_temp</th>\n",
       "    </tr>\n",
       "  </thead>\n",
       "  <tbody>\n",
       "    <tr>\n",
       "      <th>0</th>\n",
       "      <td>1849</td>\n",
       "      <td>Abidjan</td>\n",
       "      <td>Côte D'Ivoire</td>\n",
       "      <td>25.58</td>\n",
       "    </tr>\n",
       "    <tr>\n",
       "      <th>1</th>\n",
       "      <td>1850</td>\n",
       "      <td>Abidjan</td>\n",
       "      <td>Côte D'Ivoire</td>\n",
       "      <td>25.52</td>\n",
       "    </tr>\n",
       "    <tr>\n",
       "      <th>2</th>\n",
       "      <td>1851</td>\n",
       "      <td>Abidjan</td>\n",
       "      <td>Côte D'Ivoire</td>\n",
       "      <td>25.67</td>\n",
       "    </tr>\n",
       "    <tr>\n",
       "      <th>3</th>\n",
       "      <td>1852</td>\n",
       "      <td>Abidjan</td>\n",
       "      <td>Côte D'Ivoire</td>\n",
       "      <td>NaN</td>\n",
       "    </tr>\n",
       "    <tr>\n",
       "      <th>4</th>\n",
       "      <td>1853</td>\n",
       "      <td>Abidjan</td>\n",
       "      <td>Côte D'Ivoire</td>\n",
       "      <td>NaN</td>\n",
       "    </tr>\n",
       "  </tbody>\n",
       "</table>\n",
       "</div>"
      ],
      "text/plain": [
       "   year     city        country  avg_temp\n",
       "0  1849  Abidjan  Côte D'Ivoire     25.58\n",
       "1  1850  Abidjan  Côte D'Ivoire     25.52\n",
       "2  1851  Abidjan  Côte D'Ivoire     25.67\n",
       "3  1852  Abidjan  Côte D'Ivoire       NaN\n",
       "4  1853  Abidjan  Côte D'Ivoire       NaN"
      ]
     },
     "execution_count": 2,
     "metadata": {},
     "output_type": "execute_result"
    }
   ],
   "source": [
    "df = pd.read_csv('weather_data.csv')\n",
    "df.head()"
   ]
  },
  {
   "cell_type": "code",
   "execution_count": 5,
   "id": "520bb71a",
   "metadata": {},
   "outputs": [
    {
     "name": "stdout",
     "output_type": "stream",
     "text": [
      "<class 'pandas.core.frame.DataFrame'>\n",
      "RangeIndex: 70792 entries, 0 to 70791\n",
      "Data columns (total 4 columns):\n",
      " #   Column    Non-Null Count  Dtype  \n",
      "---  ------    --------------  -----  \n",
      " 0   year      70792 non-null  int64  \n",
      " 1   city      70792 non-null  object \n",
      " 2   country   70792 non-null  object \n",
      " 3   avg_temp  68245 non-null  float64\n",
      "dtypes: float64(1), int64(1), object(2)\n",
      "memory usage: 2.2+ MB\n"
     ]
    }
   ],
   "source": [
    "df.info()"
   ]
  },
  {
   "cell_type": "code",
   "execution_count": 7,
   "id": "e8ec51fd",
   "metadata": {},
   "outputs": [
    {
     "data": {
      "text/plain": [
       "array([1743, 1753, 1763, 1773, 1783, 1793, 1803, 1813, 1823, 1833, 1843,\n",
       "       1853, 1863, 1873, 1883, 1893, 1903, 1913, 1923, 1933, 1943, 1953,\n",
       "       1963, 1973, 1983, 1993, 2003, 2013])"
      ]
     },
     "execution_count": 7,
     "metadata": {},
     "output_type": "execute_result"
    }
   ],
   "source": [
    "bin_size = 10\n",
    "bin_edges = np.arange(df['year'].min(), df['year'].max()+bin_size, bin_size)\n",
    "bin_edges"
   ]
  },
  {
   "cell_type": "code",
   "execution_count": 14,
   "id": "81b30cc4",
   "metadata": {},
   "outputs": [
    {
     "data": {
      "text/plain": [
       "array([1748, 1758, 1768, 1778, 1788, 1798, 1808, 1818, 1828, 1838, 1848,\n",
       "       1858, 1868, 1878, 1888, 1898, 1908, 1918, 1928, 1938, 1948, 1958,\n",
       "       1968, 1978, 1988, 1998, 2008])"
      ]
     },
     "execution_count": 14,
     "metadata": {},
     "output_type": "execute_result"
    }
   ],
   "source": [
    "bin_mids = bin_edges[:-1] + 5\n",
    "bin_mids"
   ]
  },
  {
   "cell_type": "code",
   "execution_count": 8,
   "id": "c6a8be37",
   "metadata": {},
   "outputs": [
    {
     "data": {
      "text/plain": [
       "0        (1843, 1853]\n",
       "1        (1843, 1853]\n",
       "2        (1843, 1853]\n",
       "3        (1843, 1853]\n",
       "4        (1843, 1853]\n",
       "             ...     \n",
       "70787    (2003, 2013]\n",
       "70788    (2003, 2013]\n",
       "70789    (2003, 2013]\n",
       "70790    (2003, 2013]\n",
       "70791    (2003, 2013]\n",
       "Name: year, Length: 70792, dtype: category\n",
       "Categories (27, interval[int64, right]): [(1743, 1753] < (1753, 1763] < (1763, 1773] < (1773, 1783] ... (1973, 1983] < (1983, 1993] < (1993, 2003] < (2003, 2013]]"
      ]
     },
     "execution_count": 8,
     "metadata": {},
     "output_type": "execute_result"
    }
   ],
   "source": [
    "bin_intervals = pd.cut(df['year'], bin_edges)\n",
    "bin_intervals"
   ]
  },
  {
   "cell_type": "code",
   "execution_count": 9,
   "id": "e0f8a187",
   "metadata": {},
   "outputs": [],
   "source": [
    "df_year_i = df.groupby(bin_intervals)['avg_temp'].mean()"
   ]
  },
  {
   "cell_type": "code",
   "execution_count": 15,
   "id": "195d76d4",
   "metadata": {},
   "outputs": [
    {
     "data": {
      "image/png": "[encoded data removed]",
      "text/plain": [
       "<Figure size 432x288 with 1 Axes>"
      ]
     },
     "metadata": {
      "needs_background": "light"
     },
     "output_type": "display_data"
    }
   ],
   "source": [
    "plt.errorbar(bin_mids, df_year_i);"
   ]
  },
  {
   "cell_type": "code",
   "execution_count": 21,
   "id": "1ec97756",
   "metadata": {},
   "outputs": [
    {
     "data": {
      "text/plain": [
       "array(['Birmingham', 'London', 'Santiago', 'Alexandria', 'Barcelona',\n",
       "       'Kingston', 'Valencia', 'Hyderabad', 'Colombo', 'Santo Domingo'],\n",
       "      dtype=object)"
      ]
     },
     "execution_count": 21,
     "metadata": {},
     "output_type": "execute_result"
    }
   ],
   "source": [
    "df['city'].value_counts().index.values[:10]"
   ]
  }
 ],
 "metadata": {
  "kernelspec": {
   "display_name": "Python 3 (ipykernel)",
   "language": "python",
   "name": "python3"
  },
  "language_info": {
   "codemirror_mode": {
    "name": "ipython",
    "version": 3
   },
   "file_extension": ".py",
   "mimetype": "text/x-python",
   "name": "python",
   "nbconvert_exporter": "python",
   "pygments_lexer": "ipython3",
   "version": "3.9.5"
  }
 },
 "nbformat": 4,
 "nbformat_minor": 5
}
